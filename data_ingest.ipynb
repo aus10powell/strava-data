{
 "cells": [
  {
   "cell_type": "code",
   "execution_count": 2,
   "metadata": {},
   "outputs": [],
   "source": [
    "import pandas as pd\n",
    "import configparser"
   ]
  },
  {
   "cell_type": "code",
   "execution_count": 9,
   "metadata": {},
   "outputs": [],
   "source": [
    "import configparser\n",
    "def get_strava_keys(config_fpath):\n",
    "        config = configparser.RawConfigParser()\n",
    "        config.read(config_fpath)\n",
    "        return config[\"StravaAPI\"][\"client_id\"], config[\"StravaAPI\"][\"client_secret\"]\n",
    "\n",
    "CLIENT_ID, CLIENT_SECRET = get_strava_keys(config_fpath=\"keys.ini\")"
   ]
  },
  {
   "cell_type": "code",
   "execution_count": 10,
   "metadata": {},
   "outputs": [
    {
     "name": "stderr",
     "output_type": "stream",
     "text": [
      "No rates present in response headers\n"
     ]
    },
    {
     "ename": "Fault",
     "evalue": "400 Client Error: Bad Request [Bad Request: [{'resource': 'Application', 'field': 'client_id', 'code': 'invalid'}]]",
     "output_type": "error",
     "traceback": [
      "\u001b[0;31m---------------------------------------------------------------------------\u001b[0m",
      "\u001b[0;31mFault\u001b[0m                                     Traceback (most recent call last)",
      "Cell \u001b[0;32mIn[10], line 13\u001b[0m\n\u001b[1;32m     10\u001b[0m client \u001b[38;5;241m=\u001b[39m stravalib\u001b[38;5;241m.\u001b[39mclient\u001b[38;5;241m.\u001b[39mClient()\n\u001b[1;32m     12\u001b[0m \u001b[38;5;66;03m# Get an access token for your application\u001b[39;00m\n\u001b[0;32m---> 13\u001b[0m access_token \u001b[38;5;241m=\u001b[39m client\u001b[38;5;241m.\u001b[39mexchange_code_for_token(client_id\u001b[38;5;241m=\u001b[39mclient_id,\n\u001b[1;32m     14\u001b[0m                                               client_secret\u001b[38;5;241m=\u001b[39mclient_secret,\n\u001b[1;32m     15\u001b[0m                                               code\u001b[38;5;241m=\u001b[39mauthorization_code)\n\u001b[1;32m     17\u001b[0m \u001b[38;5;66;03m# Create a Strava API client with the access token\u001b[39;00m\n\u001b[1;32m     18\u001b[0m strava_client \u001b[38;5;241m=\u001b[39m stravalib\u001b[38;5;241m.\u001b[39mclient\u001b[38;5;241m.\u001b[39mClient(access_token\u001b[38;5;241m=\u001b[39maccess_token)\n",
      "File \u001b[0;32m~/anaconda3/envs/py311/lib/python3.11/site-packages/stravalib/client.py:203\u001b[0m, in \u001b[0;36mClient.exchange_code_for_token\u001b[0;34m(self, client_id, client_secret, code)\u001b[0m\n\u001b[1;32m    178\u001b[0m \u001b[38;5;28;01mdef\u001b[39;00m \u001b[38;5;21mexchange_code_for_token\u001b[39m(\n\u001b[1;32m    179\u001b[0m     \u001b[38;5;28mself\u001b[39m, client_id: \u001b[38;5;28mint\u001b[39m, client_secret: \u001b[38;5;28mstr\u001b[39m, code: \u001b[38;5;28mstr\u001b[39m\n\u001b[1;32m    180\u001b[0m ) \u001b[38;5;241m-\u001b[39m\u001b[38;5;241m>\u001b[39m AccessInfo:\n\u001b[1;32m    181\u001b[0m \u001b[38;5;250m    \u001b[39m\u001b[38;5;124;03m\"\"\"Exchange the temporary authorization code (returned with redirect\u001b[39;00m\n\u001b[1;32m    182\u001b[0m \u001b[38;5;124;03m    from strava authorization URL)  for a short-lived access token and a\u001b[39;00m\n\u001b[1;32m    183\u001b[0m \u001b[38;5;124;03m    refresh token (used to obtain the next access token later on).\u001b[39;00m\n\u001b[0;32m   (...)\u001b[0m\n\u001b[1;32m    201\u001b[0m \n\u001b[1;32m    202\u001b[0m \u001b[38;5;124;03m    \"\"\"\u001b[39;00m\n\u001b[0;32m--> 203\u001b[0m     \u001b[38;5;28;01mreturn\u001b[39;00m \u001b[38;5;28mself\u001b[39m\u001b[38;5;241m.\u001b[39mprotocol\u001b[38;5;241m.\u001b[39mexchange_code_for_token(\n\u001b[1;32m    204\u001b[0m         client_id\u001b[38;5;241m=\u001b[39mclient_id, client_secret\u001b[38;5;241m=\u001b[39mclient_secret, code\u001b[38;5;241m=\u001b[39mcode\n\u001b[1;32m    205\u001b[0m     )\n",
      "File \u001b[0;32m~/anaconda3/envs/py311/lib/python3.11/site-packages/stravalib/protocol.py:184\u001b[0m, in \u001b[0;36mApiV3.exchange_code_for_token\u001b[0;34m(self, client_id, client_secret, code)\u001b[0m\n\u001b[1;32m    161\u001b[0m \u001b[38;5;28;01mdef\u001b[39;00m \u001b[38;5;21mexchange_code_for_token\u001b[39m(\n\u001b[1;32m    162\u001b[0m     \u001b[38;5;28mself\u001b[39m, client_id: \u001b[38;5;28mint\u001b[39m, client_secret: \u001b[38;5;28mstr\u001b[39m, code: \u001b[38;5;28mstr\u001b[39m\n\u001b[1;32m    163\u001b[0m ) \u001b[38;5;241m-\u001b[39m\u001b[38;5;241m>\u001b[39m AccessInfo:\n\u001b[1;32m    164\u001b[0m \u001b[38;5;250m    \u001b[39m\u001b[38;5;124;03m\"\"\"Exchange the temporary authorization code (returned with redirect\u001b[39;00m\n\u001b[1;32m    165\u001b[0m \u001b[38;5;124;03m    from Strava authorization URL) for a short-lived access token and a\u001b[39;00m\n\u001b[1;32m    166\u001b[0m \u001b[38;5;124;03m    refresh token (used to obtain the next access token later on).\u001b[39;00m\n\u001b[0;32m   (...)\u001b[0m\n\u001b[1;32m    182\u001b[0m \u001b[38;5;124;03m        access token will expire)\u001b[39;00m\n\u001b[1;32m    183\u001b[0m \u001b[38;5;124;03m    \"\"\"\u001b[39;00m\n\u001b[0;32m--> 184\u001b[0m     response \u001b[38;5;241m=\u001b[39m \u001b[38;5;28mself\u001b[39m\u001b[38;5;241m.\u001b[39m_request(\n\u001b[1;32m    185\u001b[0m         \u001b[38;5;124mf\u001b[39m\u001b[38;5;124m\"\u001b[39m\u001b[38;5;124mhttps://\u001b[39m\u001b[38;5;132;01m{\u001b[39;00m\u001b[38;5;28mself\u001b[39m\u001b[38;5;241m.\u001b[39mserver\u001b[38;5;132;01m}\u001b[39;00m\u001b[38;5;124m/oauth/token\u001b[39m\u001b[38;5;124m\"\u001b[39m,\n\u001b[1;32m    186\u001b[0m         params\u001b[38;5;241m=\u001b[39m{\n\u001b[1;32m    187\u001b[0m             \u001b[38;5;124m\"\u001b[39m\u001b[38;5;124mclient_id\u001b[39m\u001b[38;5;124m\"\u001b[39m: client_id,\n\u001b[1;32m    188\u001b[0m             \u001b[38;5;124m\"\u001b[39m\u001b[38;5;124mclient_secret\u001b[39m\u001b[38;5;124m\"\u001b[39m: client_secret,\n\u001b[1;32m    189\u001b[0m             \u001b[38;5;124m\"\u001b[39m\u001b[38;5;124mcode\u001b[39m\u001b[38;5;124m\"\u001b[39m: code,\n\u001b[1;32m    190\u001b[0m             \u001b[38;5;124m\"\u001b[39m\u001b[38;5;124mgrant_type\u001b[39m\u001b[38;5;124m\"\u001b[39m: \u001b[38;5;124m\"\u001b[39m\u001b[38;5;124mauthorization_code\u001b[39m\u001b[38;5;124m\"\u001b[39m,\n\u001b[1;32m    191\u001b[0m         },\n\u001b[1;32m    192\u001b[0m         method\u001b[38;5;241m=\u001b[39m\u001b[38;5;124m\"\u001b[39m\u001b[38;5;124mPOST\u001b[39m\u001b[38;5;124m\"\u001b[39m,\n\u001b[1;32m    193\u001b[0m     )\n\u001b[1;32m    194\u001b[0m     access_info: AccessInfo \u001b[38;5;241m=\u001b[39m {\n\u001b[1;32m    195\u001b[0m         \u001b[38;5;124m\"\u001b[39m\u001b[38;5;124maccess_token\u001b[39m\u001b[38;5;124m\"\u001b[39m: response[\u001b[38;5;124m\"\u001b[39m\u001b[38;5;124maccess_token\u001b[39m\u001b[38;5;124m\"\u001b[39m],\n\u001b[1;32m    196\u001b[0m         \u001b[38;5;124m\"\u001b[39m\u001b[38;5;124mrefresh_token\u001b[39m\u001b[38;5;124m\"\u001b[39m: response[\u001b[38;5;124m\"\u001b[39m\u001b[38;5;124mrefresh_token\u001b[39m\u001b[38;5;124m\"\u001b[39m],\n\u001b[1;32m    197\u001b[0m         \u001b[38;5;124m\"\u001b[39m\u001b[38;5;124mexpires_at\u001b[39m\u001b[38;5;124m\"\u001b[39m: response[\u001b[38;5;124m\"\u001b[39m\u001b[38;5;124mexpires_at\u001b[39m\u001b[38;5;124m\"\u001b[39m],\n\u001b[1;32m    198\u001b[0m     }\n\u001b[1;32m    199\u001b[0m     \u001b[38;5;28mself\u001b[39m\u001b[38;5;241m.\u001b[39maccess_token \u001b[38;5;241m=\u001b[39m response[\u001b[38;5;124m\"\u001b[39m\u001b[38;5;124maccess_token\u001b[39m\u001b[38;5;124m\"\u001b[39m]\n",
      "File \u001b[0;32m~/anaconda3/envs/py311/lib/python3.11/site-packages/stravalib/protocol.py:325\u001b[0m, in \u001b[0;36mApiV3._request\u001b[0;34m(self, url, params, files, method, check_for_errors)\u001b[0m\n\u001b[1;32m    322\u001b[0m \u001b[38;5;28mself\u001b[39m\u001b[38;5;241m.\u001b[39mrate_limiter(raw\u001b[38;5;241m.\u001b[39mheaders, method)\n\u001b[1;32m    324\u001b[0m \u001b[38;5;28;01mif\u001b[39;00m check_for_errors:\n\u001b[0;32m--> 325\u001b[0m     \u001b[38;5;28mself\u001b[39m\u001b[38;5;241m.\u001b[39m_handle_protocol_error(raw)\n\u001b[1;32m    327\u001b[0m \u001b[38;5;66;03m# 204 = No content\u001b[39;00m\n\u001b[1;32m    328\u001b[0m \u001b[38;5;28;01mif\u001b[39;00m raw\u001b[38;5;241m.\u001b[39mstatus_code \u001b[38;5;129;01min\u001b[39;00m [\u001b[38;5;241m204\u001b[39m]:\n",
      "File \u001b[0;32m~/anaconda3/envs/py311/lib/python3.11/site-packages/stravalib/protocol.py:376\u001b[0m, in \u001b[0;36mApiV3._handle_protocol_error\u001b[0;34m(self, response)\u001b[0m\n\u001b[1;32m    370\u001b[0m \u001b[38;5;28;01melif\u001b[39;00m \u001b[38;5;241m400\u001b[39m \u001b[38;5;241m<\u001b[39m\u001b[38;5;241m=\u001b[39m response\u001b[38;5;241m.\u001b[39mstatus_code \u001b[38;5;241m<\u001b[39m \u001b[38;5;241m500\u001b[39m:\n\u001b[1;32m    371\u001b[0m     msg \u001b[38;5;241m=\u001b[39m \u001b[38;5;124m\"\u001b[39m\u001b[38;5;132;01m{}\u001b[39;00m\u001b[38;5;124m Client Error: \u001b[39m\u001b[38;5;132;01m{}\u001b[39;00m\u001b[38;5;124m [\u001b[39m\u001b[38;5;132;01m{}\u001b[39;00m\u001b[38;5;124m]\u001b[39m\u001b[38;5;124m\"\u001b[39m\u001b[38;5;241m.\u001b[39mformat(\n\u001b[1;32m    372\u001b[0m         response\u001b[38;5;241m.\u001b[39mstatus_code,\n\u001b[1;32m    373\u001b[0m         response\u001b[38;5;241m.\u001b[39mreason,\n\u001b[1;32m    374\u001b[0m         error_str,\n\u001b[1;32m    375\u001b[0m     )\n\u001b[0;32m--> 376\u001b[0m     \u001b[38;5;28;01mraise\u001b[39;00m exc\u001b[38;5;241m.\u001b[39mFault(msg, response\u001b[38;5;241m=\u001b[39mresponse)\n\u001b[1;32m    377\u001b[0m \u001b[38;5;28;01melif\u001b[39;00m \u001b[38;5;241m500\u001b[39m \u001b[38;5;241m<\u001b[39m\u001b[38;5;241m=\u001b[39m response\u001b[38;5;241m.\u001b[39mstatus_code \u001b[38;5;241m<\u001b[39m \u001b[38;5;241m600\u001b[39m:\n\u001b[1;32m    378\u001b[0m     msg \u001b[38;5;241m=\u001b[39m \u001b[38;5;124m\"\u001b[39m\u001b[38;5;132;01m{}\u001b[39;00m\u001b[38;5;124m Server Error: \u001b[39m\u001b[38;5;132;01m{}\u001b[39;00m\u001b[38;5;124m [\u001b[39m\u001b[38;5;132;01m{}\u001b[39;00m\u001b[38;5;124m]\u001b[39m\u001b[38;5;124m\"\u001b[39m\u001b[38;5;241m.\u001b[39mformat(\n\u001b[1;32m    379\u001b[0m         response\u001b[38;5;241m.\u001b[39mstatus_code,\n\u001b[1;32m    380\u001b[0m         response\u001b[38;5;241m.\u001b[39mreason,\n\u001b[1;32m    381\u001b[0m         error_str,\n\u001b[1;32m    382\u001b[0m     )\n",
      "\u001b[0;31mFault\u001b[0m: 400 Client Error: Bad Request [Bad Request: [{'resource': 'Application', 'field': 'client_id', 'code': 'invalid'}]]"
     ]
    }
   ],
   "source": [
    "import stravalib\n",
    "# Replace with your Strava API credentials\n",
    "client_id = CLIENT_ID\n",
    "client_secret = CLIENT_SECRET\n",
    "\n",
    "# Replace with the authorization code you obtained\n",
    "authorization_code = 'YOUR_AUTHORIZATION_CODE'\n",
    "\n",
    "# Create a Strava API client\n",
    "client = stravalib.client.Client()\n",
    "\n",
    "# Get an access token for your application\n",
    "access_token = client.exchange_code_for_token(client_id=client_id,\n",
    "                                              client_secret=client_secret,\n",
    "                                              code=authorization_code)\n",
    "\n",
    "# Create a Strava API client with the access token\n",
    "strava_client = stravalib.client.Client(access_token=access_token)\n",
    "\n",
    "# Get the authenticated athlete's information\n",
    "athlete = strava_client.get_athlete()\n",
    "print(f\"Athlete: {athlete.firstname} {athlete.lastname}\")\n",
    "\n",
    "# Get the authenticated athlete's activities\n",
    "activities = strava_client.get_activities()\n",
    "for activity in activities:\n",
    "    print(f\"Activity: {activity.name} ({activity.start_date})\")\n",
    "\n",
    "# Get a specific activity by ID\n",
    "activity_id = 1234567890  # Replace with the desired activity ID\n",
    "activity = strava_client.get_activity(activity_id)\n",
    "print(f\"Activity: {activity.name} ({activity.start_date})\")\n",
    "\n",
    "# Get the authenticated athlete's clubs\n",
    "clubs = strava_client.get_athlete_clubs()\n",
    "for club in clubs:\n",
    "    print(f\"Club: {club.name}\")"
   ]
  },
  {
   "cell_type": "code",
   "execution_count": null,
   "metadata": {},
   "outputs": [],
   "source": []
  }
 ],
 "metadata": {
  "kernelspec": {
   "display_name": "py311",
   "language": "python",
   "name": "python3"
  },
  "language_info": {
   "codemirror_mode": {
    "name": "ipython",
    "version": 3
   },
   "file_extension": ".py",
   "mimetype": "text/x-python",
   "name": "python",
   "nbconvert_exporter": "python",
   "pygments_lexer": "ipython3",
   "version": "3.11.3"
  }
 },
 "nbformat": 4,
 "nbformat_minor": 2
}
